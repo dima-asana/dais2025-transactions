{
 "cells": [
  {
   "cell_type": "code",
   "execution_count": 0,
   "metadata": {
    "application/vnd.databricks.v1+cell": {
     "cellMetadata": {
      "byteLimit": 2048000,
      "rowLimit": 10000
     },
     "inputWidgets": {},
     "nuid": "030d1a23-ff54-4f10-96fb-3bc05a14eb7a",
     "showTitle": false,
     "tableResultSettingsMap": {},
     "title": ""
    }
   },
   "outputs": [],
   "source": [
    "WITH source AS \n",
    "(\n",
    "  SELECT 1 AS id, \"Dima\" AS name, \"purple\" as favorite_color UNION ALL\n",
    "  SELECT 2 AS id, \"Ren\" AS name, \"blue\" as favorite_color UNION ALL\n",
    "  SELECT 3 AS id, \"Ira\" AS name, \"green\" as favorite_color\n",
    ")\n",
    "\n",
    "MERGE INTO student USING source ON student.id = source.id\n",
    "WHEN NOT MATCHED THEN INSERT *;"
   ]
  },
  {
   "cell_type": "code",
   "execution_count": 0,
   "metadata": {
    "application/vnd.databricks.v1+cell": {
     "cellMetadata": {},
     "inputWidgets": {},
     "nuid": "35a82781-ebe2-4ade-85c7-1187bd365d12",
     "showTitle": false,
     "tableResultSettingsMap": {},
     "title": ""
    }
   },
   "outputs": [],
   "source": []
  }
 ],
 "metadata": {
  "application/vnd.databricks.v1+notebook": {
   "computePreferences": null,
   "dashboards": [],
   "environmentMetadata": {
    "base_environment": "",
    "environment_version": "2"
   },
   "inputWidgetPreferences": null,
   "language": "sql",
   "notebookMetadata": {
    "pythonIndentUnit": 4
   },
   "notebookName": "1",
   "widgets": {}
  },
  "language_info": {
   "name": "sql"
  }
 },
 "nbformat": 4,
 "nbformat_minor": 0
}
